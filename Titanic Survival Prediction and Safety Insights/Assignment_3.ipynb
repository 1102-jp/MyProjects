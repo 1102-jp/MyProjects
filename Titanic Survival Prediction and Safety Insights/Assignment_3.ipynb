{
 "cells": [
  {
   "cell_type": "code",
   "execution_count": 2,
   "id": "a5f04514-391e-4e4c-975f-1137ce818a6a",
   "metadata": {},
   "outputs": [
    {
     "ename": "ModuleNotFoundError",
     "evalue": "No module named 'seaborn'",
     "output_type": "error",
     "traceback": [
      "\u001b[31m---------------------------------------------------------------------------\u001b[39m",
      "\u001b[31mModuleNotFoundError\u001b[39m                       Traceback (most recent call last)",
      "\u001b[36mCell\u001b[39m\u001b[36m \u001b[39m\u001b[32mIn[2]\u001b[39m\u001b[32m, line 4\u001b[39m\n\u001b[32m      2\u001b[39m \u001b[38;5;28;01mimport\u001b[39;00m\u001b[38;5;250m \u001b[39m\u001b[34;01mnumpy\u001b[39;00m\u001b[38;5;250m \u001b[39m\u001b[38;5;28;01mas\u001b[39;00m\u001b[38;5;250m \u001b[39m\u001b[34;01mnp\u001b[39;00m\n\u001b[32m      3\u001b[39m \u001b[38;5;28;01mimport\u001b[39;00m\u001b[38;5;250m \u001b[39m\u001b[34;01mmatplotlib\u001b[39;00m\u001b[34;01m.\u001b[39;00m\u001b[34;01mpyplot\u001b[39;00m\u001b[38;5;250m \u001b[39m\u001b[38;5;28;01mas\u001b[39;00m\u001b[38;5;250m \u001b[39m\u001b[34;01mplt\u001b[39;00m\n\u001b[32m----> \u001b[39m\u001b[32m4\u001b[39m \u001b[38;5;28;01mimport\u001b[39;00m\u001b[38;5;250m \u001b[39m\u001b[34;01mseaborn\u001b[39;00m\u001b[38;5;250m \u001b[39m\u001b[38;5;28;01mas\u001b[39;00m\u001b[38;5;250m \u001b[39m\u001b[34;01msns\u001b[39;00m\n",
      "\u001b[31mModuleNotFoundError\u001b[39m: No module named 'seaborn'"
     ]
    }
   ],
   "source": [
    "import pandas as pd\n",
    "import numpy as np\n",
    "import matplotlib.pyplot as plt\n",
    "import seaborn as sns"
   ]
  },
  {
   "cell_type": "code",
   "execution_count": 10,
   "id": "c22ab71a-e723-49b8-ad04-92204079d8ea",
   "metadata": {},
   "outputs": [
    {
     "name": "stdout",
     "output_type": "stream",
     "text": [
      "<class 'pandas.core.frame.DataFrame'>\n",
      "RangeIndex: 891 entries, 0 to 890\n",
      "Data columns (total 12 columns):\n",
      " #   Column       Non-Null Count  Dtype  \n",
      "---  ------       --------------  -----  \n",
      " 0   PassengerId  891 non-null    int64  \n",
      " 1   Survived     885 non-null    float64\n",
      " 2   Pclass       891 non-null    int64  \n",
      " 3   Name         891 non-null    object \n",
      " 4   Sex          891 non-null    object \n",
      " 5   Age          714 non-null    float64\n",
      " 6   SibSp        891 non-null    int64  \n",
      " 7   Parch        884 non-null    float64\n",
      " 8   Ticket       891 non-null    object \n",
      " 9   Fare         891 non-null    float64\n",
      " 10  Cabin        204 non-null    object \n",
      " 11  Embarked     889 non-null    object \n",
      "dtypes: float64(4), int64(3), object(5)\n",
      "memory usage: 83.7+ KB\n"
     ]
    },
    {
     "data": {
      "text/html": [
       "<div>\n",
       "<style scoped>\n",
       "    .dataframe tbody tr th:only-of-type {\n",
       "        vertical-align: middle;\n",
       "    }\n",
       "\n",
       "    .dataframe tbody tr th {\n",
       "        vertical-align: top;\n",
       "    }\n",
       "\n",
       "    .dataframe thead th {\n",
       "        text-align: right;\n",
       "    }\n",
       "</style>\n",
       "<table border=\"1\" class=\"dataframe\">\n",
       "  <thead>\n",
       "    <tr style=\"text-align: right;\">\n",
       "      <th></th>\n",
       "      <th>PassengerId</th>\n",
       "      <th>Survived</th>\n",
       "      <th>Pclass</th>\n",
       "      <th>Name</th>\n",
       "      <th>Sex</th>\n",
       "      <th>Age</th>\n",
       "      <th>SibSp</th>\n",
       "      <th>Parch</th>\n",
       "      <th>Ticket</th>\n",
       "      <th>Fare</th>\n",
       "      <th>Cabin</th>\n",
       "      <th>Embarked</th>\n",
       "    </tr>\n",
       "  </thead>\n",
       "  <tbody>\n",
       "    <tr>\n",
       "      <th>0</th>\n",
       "      <td>846</td>\n",
       "      <td>0.0</td>\n",
       "      <td>3</td>\n",
       "      <td>Abbing, Mr. Anthony</td>\n",
       "      <td>male</td>\n",
       "      <td>42.0</td>\n",
       "      <td>0</td>\n",
       "      <td>0.0</td>\n",
       "      <td>C.A. 5547</td>\n",
       "      <td>7.55</td>\n",
       "      <td>NaN</td>\n",
       "      <td>S</td>\n",
       "    </tr>\n",
       "    <tr>\n",
       "      <th>1</th>\n",
       "      <td>747</td>\n",
       "      <td>0.0</td>\n",
       "      <td>3</td>\n",
       "      <td>Abbott, Mr. Rossmore Edward</td>\n",
       "      <td>male</td>\n",
       "      <td>16.0</td>\n",
       "      <td>1</td>\n",
       "      <td>1.0</td>\n",
       "      <td>C.A. 2673</td>\n",
       "      <td>20.25</td>\n",
       "      <td>NaN</td>\n",
       "      <td>S</td>\n",
       "    </tr>\n",
       "    <tr>\n",
       "      <th>2</th>\n",
       "      <td>280</td>\n",
       "      <td>1.0</td>\n",
       "      <td>3</td>\n",
       "      <td>Abbott, Mrs. Stanton (Rosa Hunt)</td>\n",
       "      <td>female</td>\n",
       "      <td>35.0</td>\n",
       "      <td>1</td>\n",
       "      <td>1.0</td>\n",
       "      <td>C.A. 2673</td>\n",
       "      <td>20.25</td>\n",
       "      <td>NaN</td>\n",
       "      <td>S</td>\n",
       "    </tr>\n",
       "    <tr>\n",
       "      <th>3</th>\n",
       "      <td>309</td>\n",
       "      <td>0.0</td>\n",
       "      <td>2</td>\n",
       "      <td>Abelson, Mr. Samuel</td>\n",
       "      <td>male</td>\n",
       "      <td>30.0</td>\n",
       "      <td>1</td>\n",
       "      <td>0.0</td>\n",
       "      <td>P/PP 3381</td>\n",
       "      <td>24.00</td>\n",
       "      <td>NaN</td>\n",
       "      <td>C</td>\n",
       "    </tr>\n",
       "    <tr>\n",
       "      <th>4</th>\n",
       "      <td>875</td>\n",
       "      <td>1.0</td>\n",
       "      <td>2</td>\n",
       "      <td>Abelson, Mrs. Samuel (Hannah Wizosky)</td>\n",
       "      <td>female</td>\n",
       "      <td>28.0</td>\n",
       "      <td>1</td>\n",
       "      <td>0.0</td>\n",
       "      <td>P/PP 3381</td>\n",
       "      <td>24.00</td>\n",
       "      <td>NaN</td>\n",
       "      <td>C</td>\n",
       "    </tr>\n",
       "  </tbody>\n",
       "</table>\n",
       "</div>"
      ],
      "text/plain": [
       "   PassengerId  Survived  Pclass                                   Name  \\\n",
       "0          846       0.0       3                    Abbing, Mr. Anthony   \n",
       "1          747       0.0       3            Abbott, Mr. Rossmore Edward   \n",
       "2          280       1.0       3       Abbott, Mrs. Stanton (Rosa Hunt)   \n",
       "3          309       0.0       2                    Abelson, Mr. Samuel   \n",
       "4          875       1.0       2  Abelson, Mrs. Samuel (Hannah Wizosky)   \n",
       "\n",
       "      Sex   Age  SibSp  Parch     Ticket   Fare Cabin Embarked  \n",
       "0    male  42.0      0    0.0  C.A. 5547   7.55   NaN        S  \n",
       "1    male  16.0      1    1.0  C.A. 2673  20.25   NaN        S  \n",
       "2  female  35.0      1    1.0  C.A. 2673  20.25   NaN        S  \n",
       "3    male  30.0      1    0.0  P/PP 3381  24.00   NaN        C  \n",
       "4  female  28.0      1    0.0  P/PP 3381  24.00   NaN        C  "
      ]
     },
     "execution_count": 10,
     "metadata": {},
     "output_type": "execute_result"
    }
   ],
   "source": [
    "df = pd.read_csv(\"Titanic-Dataset-1.csv\")\n",
    "df.info()\n",
    "df.head()"
   ]
  },
  {
   "cell_type": "code",
   "execution_count": 11,
   "id": "8b054c2a-a724-4963-9bf4-eb605f2a7bb8",
   "metadata": {},
   "outputs": [
    {
     "name": "stdout",
     "output_type": "stream",
     "text": [
      "Number of missing data in columns with null values:\n",
      "\n",
      "Survived      6\n",
      "Age         177\n",
      "Parch         7\n",
      "Cabin       687\n",
      "Embarked      2\n",
      "dtype: int64\n"
     ]
    }
   ],
   "source": [
    "print(\"Number of missing data in columns with null values:\\n\")\n",
    "print(df.isnull().sum()[df.isnull().sum() > 0])"
   ]
  },
  {
   "cell_type": "code",
   "execution_count": 12,
   "id": "694d98ce-af51-47a9-a5ca-190165230400",
   "metadata": {},
   "outputs": [
    {
     "name": "stdout",
     "output_type": "stream",
     "text": [
      "Survived     0.673401\n",
      "Age         19.865320\n",
      "Parch        0.785634\n",
      "Cabin       77.104377\n",
      "Embarked     0.224467\n",
      "dtype: float64\n"
     ]
    }
   ],
   "source": [
    "total_rows = len(df)\n",
    "print(df.isnull().sum()[df.isnull().sum() > 0] / total_rows * 100)"
   ]
  },
  {
   "cell_type": "code",
   "execution_count": 13,
   "id": "84ba59ef-83ea-4d56-a56f-7be7e7b7ef33",
   "metadata": {},
   "outputs": [
    {
     "name": "stdout",
     "output_type": "stream",
     "text": [
      "Survived     0.673401\n",
      "Age         19.865320\n",
      "Parch        0.785634\n",
      "Embarked     0.224467\n",
      "dtype: float64\n"
     ]
    }
   ],
   "source": [
    "df = df.drop('Cabin', axis = 1)\n",
    "print(df.isnull().sum()[df.isnull().sum() > 0] / total_rows * 100)"
   ]
  },
  {
   "cell_type": "code",
   "execution_count": 14,
   "id": "c8f7cc99-e93e-496f-bbb6-8ae057e73887",
   "metadata": {},
   "outputs": [
    {
     "name": "stdout",
     "output_type": "stream",
     "text": [
      "<class 'pandas.core.frame.DataFrame'>\n",
      "Index: 876 entries, 0 to 890\n",
      "Data columns (total 8 columns):\n",
      " #   Column    Non-Null Count  Dtype  \n",
      "---  ------    --------------  -----  \n",
      " 0   Survived  876 non-null    float64\n",
      " 1   Pclass    876 non-null    int64  \n",
      " 2   Sex       876 non-null    int64  \n",
      " 3   Age       876 non-null    float64\n",
      " 4   SibSp     876 non-null    int64  \n",
      " 5   Parch     876 non-null    float64\n",
      " 6   Fare      876 non-null    float64\n",
      " 7   Embarked  876 non-null    int64  \n",
      "dtypes: float64(4), int64(4)\n",
      "memory usage: 61.6 KB\n",
      "Series([], dtype: float64)\n"
     ]
    }
   ],
   "source": [
    "df = df.dropna(subset = ['Survived', 'Parch', 'Embarked'])\n",
    "\n",
    "median_ages = df.groupby(['Pclass', 'Sex'])['Age'].median().to_dict()\n",
    "\n",
    "def median_age(row):\n",
    "    if pd.isna(row['Age']):\n",
    "        return median_ages.get((row['Pclass'], row['Sex']))\n",
    "    return row['Age']\n",
    "\n",
    "df['Age'] = df.apply(median_age, axis = 1)\n",
    "df = df.drop(columns = ['PassengerId', 'Ticket', 'Name'])\n",
    "\n",
    "df['Sex'] = df['Sex'].map({'male': 0, 'female': 1})\n",
    "df['Embarked'] = df['Embarked'].map({'S': 0, 'C':1, 'Q': 2})\n",
    "\n",
    "df.info()\n",
    "print(df.isnull().sum()[df.isnull().sum() > 0] / total_rows * 100)"
   ]
  },
  {
   "cell_type": "code",
   "execution_count": 15,
   "id": "2653ec55-ce64-4b25-a7b8-7cb5eab016da",
   "metadata": {},
   "outputs": [
    {
     "name": "stdout",
     "output_type": "stream",
     "text": [
      "Outliers for Age:\n",
      "Q1: 21.5, Q3: 36.0\n",
      "Lower Bound: -0.25, Upper Bound: 57.75\n",
      "Outliers: [63.  71.  80.  58.  60.  70.5 59.  70.  65.  64.  60.  58.  62.  58.\n",
      " 58.  65.  70.  58.  64.  61.  65.  59.  62.  61.  74.  63.  61.  60.\n",
      " 60.  66.  62. ]\n",
      "Outliers for SibSp:\n",
      "Q1: 0.0, Q3: 1.0\n",
      "Lower Bound: -1.5, Upper Bound: 2.5\n",
      "Outliers: [4 4 4 4 4 4 4 4 3 3 3 3 5 5 5 5 5 3 3 3 3 3 3 3 4 4 4 4 4 3 4 4 4 4 8 8 8\n",
      " 8 8 8 8 3 3 3 3]\n",
      "Outliers for Parch:\n",
      "Q1: 0.0, Q3: 0.0\n",
      "Lower Bound: 0.0, Upper Bound: 0.0\n",
      "Outliers: [1. 1. 1. 2. 2. 2. 2. 2. 2. 2. 2. 5. 5. 2. 2. 2. 5. 1. 1. 1. 3. 1. 1. 1.\n",
      " 1. 1. 1. 1. 1. 1. 2. 2. 1. 1. 1. 1. 1. 2. 1. 1. 2. 2. 2. 2. 1. 1. 2. 1.\n",
      " 1. 1. 1. 1. 1. 1. 2. 1. 1. 1. 2. 2. 2. 1. 1. 1. 1. 2. 2. 3. 3. 2. 2. 2.\n",
      " 4. 2. 1. 2. 1. 1. 2. 2. 2. 2. 2. 6. 1. 1. 1. 2. 1. 1. 2. 1. 1. 1. 2. 2.\n",
      " 1. 1. 1. 1. 3. 1. 1. 1. 2. 2. 2. 1. 2. 1. 1. 2. 2. 2. 1. 1. 1. 1. 1. 1.\n",
      " 2. 1. 1. 1. 1. 1. 1. 1. 2. 1. 1. 1. 1. 2. 2. 2. 1. 1. 1. 1. 1. 1. 4. 1.\n",
      " 1. 1. 1. 1. 5. 1. 1. 2. 1. 1. 2. 1. 1. 1. 1. 5. 1. 1. 3. 1. 1. 2. 2. 2.\n",
      " 2. 2. 2. 2. 2. 2. 2. 1. 2. 1. 2. 2. 2. 2. 2. 4. 4. 1. 1. 1. 2. 1. 1. 1.\n",
      " 2. 1. 1. 2. 2. 2. 1. 1. 1. 2. 2. 2. 1. 1. 2. 1. 2. 1.]\n",
      "Outliers for Fare:\n",
      "Q1: 7.8958, Q3: 30.6958\n",
      "Lower Bound: -26.304199999999994, Upper Bound: 64.8958\n",
      "Outliers: [211.3375 151.55   151.55   151.55    77.9583 227.525   69.3     78.85\n",
      " 247.5208 247.5208  76.2917 227.525   91.0792  91.0792 135.6333 134.5\n",
      " 512.3292 120.     120.     120.     120.      78.85    86.5    151.55\n",
      "  83.1583  71.      71.      71.2833  73.5     81.8583 106.425  227.525\n",
      "  78.2667 221.7792 110.8833 263.     263.     263.     263.     133.65\n",
      " 133.65    79.2     79.2     89.1042  89.1042 153.4625 153.4625  79.2\n",
      "  76.7292  76.7292  83.475   83.475   76.7292  83.1583  93.5     65.\n",
      "  65.      73.5     73.5     73.5     77.9583  73.5     90.      90.\n",
      " 106.425  512.3292  77.9583 146.5208 211.3375  86.5     82.1708  82.1708\n",
      "  90.      90.     113.275  113.275  113.275   66.6     66.6    108.9\n",
      "  93.5     83.1583 135.6333 227.525  211.3375  86.5    262.375  262.375\n",
      "  69.55    69.55    69.55    69.55    69.55    69.55    69.55    69.3\n",
      " 153.4625 134.5    146.5208  78.2667  79.65    79.65    79.65   110.8833\n",
      " 110.8833 110.8833  79.2    512.3292  75.25    77.2875  77.2875 164.8667\n",
      " 164.8667 211.5    135.6333]\n",
      "\n",
      "\n",
      "\n",
      "Capped Fare values above 64.8958\n"
     ]
    }
   ],
   "source": [
    "numeric_cols = ['Age', 'SibSp', 'Parch', 'Fare']\n",
    "\n",
    "for col in numeric_cols:\n",
    "    q1 = df[col].quantile(0.25)\n",
    "    q3 = df[col].quantile(0.75)\n",
    "    iqr = q3 - q1\n",
    "    lower_bound = q1 - 1.5 * iqr\n",
    "    upper_bound = q3 + 1.5 * iqr\n",
    "    print(f\"Outliers for {col}:\")\n",
    "    print(f\"Q1: {q1}, Q3: {q3}\")\n",
    "    print(f\"Lower Bound: {lower_bound}, Upper Bound: {upper_bound}\")\n",
    "    print(f\"Outliers: {df[(df[col] < lower_bound) | (df[col] > upper_bound)]\n",
    "    [col].values}\")\n",
    "\n",
    "fare_upper_bound = 30.6958 + 1.5 * (30.6958 - 7.8958)\n",
    "df.loc[df['Fare'] > fare_upper_bound, 'Fare'] = fare_upper_bound\n",
    "print(f\"\\n\\n\\nCapped Fare values above {fare_upper_bound}\")"
   ]
  },
  {
   "cell_type": "code",
   "execution_count": 16,
   "id": "18c4e5a6-1deb-455e-8c04-565f15e58c2f",
   "metadata": {},
   "outputs": [
    {
     "ename": "ModuleNotFoundError",
     "evalue": "No module named 'seaborn'",
     "output_type": "error",
     "traceback": [
      "\u001b[31m---------------------------------------------------------------------------\u001b[39m",
      "\u001b[31mModuleNotFoundError\u001b[39m                       Traceback (most recent call last)",
      "\u001b[36mCell\u001b[39m\u001b[36m \u001b[39m\u001b[32mIn[16]\u001b[39m\u001b[32m, line 1\u001b[39m\n\u001b[32m----> \u001b[39m\u001b[32m1\u001b[39m \u001b[38;5;28;01mimport\u001b[39;00m\u001b[38;5;250m \u001b[39m\u001b[34;01mseaborn\u001b[39;00m\u001b[38;5;250m \u001b[39m\u001b[38;5;28;01mas\u001b[39;00m\u001b[38;5;250m \u001b[39m\u001b[34;01msns\u001b[39;00m\n\u001b[32m      3\u001b[39m survival_rate = df[\u001b[33m'\u001b[39m\u001b[33mSurvived\u001b[39m\u001b[33m'\u001b[39m].mean()\n\u001b[32m      4\u001b[39m \u001b[38;5;28mprint\u001b[39m(\u001b[33mf\u001b[39m\u001b[33m\"\u001b[39m\u001b[33mSurvival Rate : \u001b[39m\u001b[38;5;132;01m{\u001b[39;00msurvival_rate\u001b[38;5;132;01m:\u001b[39;00m\u001b[33m .2%\u001b[39m\u001b[38;5;132;01m}\u001b[39;00m\u001b[33m\"\u001b[39m)\n",
      "\u001b[31mModuleNotFoundError\u001b[39m: No module named 'seaborn'"
     ]
    }
   ],
   "source": [
    "import seaborn as sns\n",
    "\n",
    "survival_rate = df['Survived'].mean()\n",
    "print(f\"Survival Rate : {survival_rate: .2%}\")\n",
    "\n",
    "numerical_cols = ['Age', 'SibSp', 'Parch', 'Fare']\n",
    "categorical_cols = ['Sex', 'Embarked', 'Pclass']\n",
    "\n",
    "for col in numerical_cols:\n",
    "    plt.figure(figsize = (4,4))\n",
    "    sns.histplot(df[col], kde = True)\n",
    "    plt.title(f\"Distribution of {col}\")\n",
    "    plt.show()\n",
    "\n",
    "for col in categorical_cols:\n",
    "    plt.figure(figsize = (4,4))\n",
    "    sns.countplot(x = col, data = df)\n",
    "    plt.title(f\"Frequency of {col}\")\n",
    "    plt.show()"
   ]
  },
  {
   "cell_type": "code",
   "execution_count": 9,
   "id": "7947e9ad-1cd1-42bf-9f76-ac0e159de1ad",
   "metadata": {},
   "outputs": [
    {
     "data": {
      "image/png": "[encoded data removed]",
      "text/plain": [
       "<Figure size 400x400 with 1 Axes>"
      ]
     },
     "metadata": {},
     "output_type": "display_data"
    }
   ],
   "source": [
    "# Hypothesis: Passengers traveling alone had a lower survival rate than those with small families\n",
    "\n",
    "df['FamilySize'] = df['SibSp'] + df['Parch'] + 1\n",
    "\n",
    "plt.figure(figsize = (4,4))\n",
    "sns.barplot(x = 'FamilySize', y = 'Survived', data = df)\n",
    "plt.title(\"Survival Rate by Family Size\")\n",
    "plt.xlabel('Family Size: (SibSp + Parch + 1)')\n",
    "plt.ylabel('Survival Rate')\n",
    "plt.show()"
   ]
  },
  {
   "cell_type": "code",
   "execution_count": 10,
   "id": "28a4cb15-aa08-4198-b6e5-184dc4ef8169",
   "metadata": {},
   "outputs": [
    {
     "data": {
      "image/png": "[encoded data removed]",
      "text/plain": [
       "<Figure size 400x400 with 1 Axes>"
      ]
     },
     "metadata": {},
     "output_type": "display_data"
    }
   ],
   "source": [
    "# Hypothesis: Higher class/expensive tickets lead to higher survival rates for both solo and family passengers\n",
    "# Group by Pclass and IsAlone, calculate survival rates\n",
    "'''\n",
    "df['IsAlone'] = (df['FamilySize'] == 1).astype(int)\n",
    "\n",
    "family_size = df.groupby(['Pclass', 'IsAlone'])['Survived'].mean().reset_index()\n",
    "\n",
    "print(\"Survival Rates by Pclass and IsAlone\")\n",
    "print(family_size)\n",
    "'''\n",
    "plt.figure(figsize = (4,4))\n",
    "sns.barplot(x = 'Pclass', y = 'Survived', data = df)\n",
    "plt.title(\"Survival Rate by Passenger Class\")\n",
    "plt.xlabel('Passenger Class (Pclass)')\n",
    "plt.ylabel('Survival Rate')\n",
    "plt.show()"
   ]
  },
  {
   "cell_type": "code",
   "execution_count": 11,
   "id": "d9305d6a-92aa-4a9a-8213-09b1978e2811",
   "metadata": {},
   "outputs": [
    {
     "name": "stdout",
     "output_type": "stream",
     "text": [
      "<class 'pandas.core.frame.DataFrame'>\n",
      "Index: 876 entries, 0 to 890\n",
      "Data columns (total 9 columns):\n",
      " #   Column      Non-Null Count  Dtype  \n",
      "---  ------      --------------  -----  \n",
      " 0   Survived    876 non-null    float64\n",
      " 1   Pclass      876 non-null    int64  \n",
      " 2   Sex         876 non-null    int64  \n",
      " 3   Age         876 non-null    float64\n",
      " 4   SibSp       876 non-null    int64  \n",
      " 5   Parch       876 non-null    float64\n",
      " 6   Fare        876 non-null    float64\n",
      " 7   Embarked    876 non-null    int64  \n",
      " 8   FamilySize  876 non-null    float64\n",
      "dtypes: float64(5), int64(4)\n",
      "memory usage: 68.4 KB\n"
     ]
    }
   ],
   "source": [
    "from sklearn.model_selection import train_test_split\n",
    "from sklearn.linear_model import LogisticRegression\n",
    "from sklearn.tree import DecisionTreeClassifier\n",
    "from sklearn.metrics import accuracy_score, recall_score, precision_score, f1_score, confusion_matrix\n",
    "\n",
    "df.info()"
   ]
  },
  {
   "cell_type": "code",
   "execution_count": 12,
   "id": "9ecd462f-312f-4528-a650-cd5f86ba8e6e",
   "metadata": {},
   "outputs": [
    {
     "name": "stdout",
     "output_type": "stream",
     "text": [
      "Logistic Regression Performance\n",
      "Accuracy: 0.8239\n",
      "Recall: 0.7705\n",
      "Precision: 0.7344\n",
      "F1 Score: 0.7520\n"
     ]
    },
    {
     "data": {
      "image/png": "[encoded data removed]",
      "text/plain": [
       "<Figure size 400x400 with 1 Axes>"
      ]
     },
     "metadata": {},
     "output_type": "display_data"
    },
    {
     "name": "stdout",
     "output_type": "stream",
     "text": [
      "Logistic Regression Feature Coefficients:\n",
      "    Feature  Coefficient\n",
      "1       Sex     1.223327\n",
      "5      Fare     0.231994\n",
      "6  Embarked     0.172823\n",
      "4     Parch    -0.066227\n",
      "3     SibSp    -0.408028\n",
      "2       Age    -0.591742\n",
      "0    Pclass    -0.822862\n",
      "Decision Tree Performance\n",
      "Accuracy: 0.7557\n",
      "Recall: 0.7213\n",
      "Precision: 0.6286\n",
      "F1 Score: 0.6718\n"
     ]
    },
    {
     "data": {
      "image/png": "[encoded data removed]",
      "text/plain": [
       "<Figure size 400x400 with 1 Axes>"
      ]
     },
     "metadata": {},
     "output_type": "display_data"
    },
    {
     "name": "stdout",
     "output_type": "stream",
     "text": [
      "\n",
      "Decision Tree Feature Importance:\n",
      "    Feature  Importance\n",
      "1       Sex    0.302881\n",
      "2       Age    0.272255\n",
      "5      Fare    0.213509\n",
      "0    Pclass    0.100124\n",
      "3     SibSp    0.061886\n",
      "4     Parch    0.029692\n",
      "6  Embarked    0.019654\n"
     ]
    }
   ],
   "source": [
    "from sklearn.preprocessing import StandardScaler\n",
    "\n",
    "# Logistic Regression\n",
    "X = df[['Pclass', 'Sex', 'Age', 'SibSp', 'Parch', 'Fare', 'Embarked']]\n",
    "y = df['Survived']\n",
    "X_train, X_test, y_train, y_test = train_test_split(X, y, test_size=0.2, random_state=42)\n",
    "\n",
    "scaler = StandardScaler()\n",
    "X_train_scaled = scaler.fit_transform(X_train)\n",
    "X_test_scaled = scaler.transform(X_test)\n",
    "\n",
    "lg = LogisticRegression(max_iter=1000, random_state=42)\n",
    "lg.fit(X_train_scaled, y_train)\n",
    "\n",
    "y_pred = lg.predict(X_test_scaled)\n",
    "accuracy = accuracy_score(y_test, y_pred)\n",
    "precision = precision_score(y_test, y_pred)\n",
    "recall = recall_score(y_test, y_pred)\n",
    "f1 = f1_score(y_test, y_pred)\n",
    "\n",
    "print(f\"Logistic Regression Performance\")\n",
    "print(f\"Accuracy: {accuracy:.4f}\")\n",
    "print(f\"Recall: {recall:.4f}\")\n",
    "print(f\"Precision: {precision:.4f}\")\n",
    "print(f\"F1 Score: {f1:.4f}\")\n",
    "\n",
    "cm = confusion_matrix(y_test, y_pred)\n",
    "plt.figure(figsize=(4,4))\n",
    "sns.heatmap(cm, annot=True, fmt='d', cmap='Blues', cbar=False,\n",
    "            xticklabels=['Did not Survive', 'Survived'],\n",
    "            yticklabels=['Did not Survive', 'Survived'])\n",
    "plt.title(\"Logistic Regression Confusion Matrix\")\n",
    "plt.xlabel('Predicted')\n",
    "plt.ylabel('Actual')\n",
    "plt.savefig(\"cfm_lr\")\n",
    "plt.show()\n",
    "\n",
    "# Extract coefficients\n",
    "lg_coef = pd.DataFrame({\n",
    "    'Feature': X.columns,\n",
    "    'Coefficient': lg.coef_[0]\n",
    "}).sort_values(by='Coefficient', ascending=False)\n",
    "print(\"Logistic Regression Feature Coefficients:\")\n",
    "print(lg_coef)\n",
    "\n",
    "# Decision Tree\n",
    "X = df[['Pclass', 'Sex', 'Age', 'SibSp', 'Parch', 'Fare', 'Embarked']]\n",
    "y = df['Survived']\n",
    "X_train, X_test, y_train, y_test = train_test_split(X, y, test_size=0.2, random_state=42)\n",
    "\n",
    "X_train_scaled = scaler.fit_transform(X_train)\n",
    "X_test_scaled = scaler.transform(X_test)\n",
    "\n",
    "dt = DecisionTreeClassifier(random_state=42)\n",
    "dt.fit(X_train_scaled, y_train)\n",
    "\n",
    "y_pred = dt.predict(X_test_scaled)\n",
    "accuracy = accuracy_score(y_test, y_pred)\n",
    "precision = precision_score(y_test, y_pred)\n",
    "recall = recall_score(y_test, y_pred)\n",
    "f1 = f1_score(y_test, y_pred)\n",
    "\n",
    "print(f\"Decision Tree Performance\")\n",
    "print(f\"Accuracy: {accuracy:.4f}\")\n",
    "print(f\"Recall: {recall:.4f}\")\n",
    "print(f\"Precision: {precision:.4f}\")\n",
    "print(f\"F1 Score: {f1:.4f}\")\n",
    "\n",
    "cm = confusion_matrix(y_test, y_pred)\n",
    "plt.figure(figsize=(4,4))\n",
    "sns.heatmap(cm, annot=True, fmt='d', cmap='Blues', cbar=False,\n",
    "            xticklabels=['Did not Survive', 'Survived'],\n",
    "            yticklabels=['Did not Survive', 'Survived'])\n",
    "plt.title(\"Decision Tree Confusion Matrix\")\n",
    "plt.xlabel('Predicted')\n",
    "plt.ylabel('Actual')\n",
    "plt.savefig('cfm_dt')\n",
    "plt.show()\n",
    "\n",
    "# Extract feature importance\n",
    "dt_importance = pd.DataFrame({\n",
    "    'Feature': X.columns,\n",
    "    'Importance': dt.feature_importances_\n",
    "}).sort_values(by='Importance', ascending=False)\n",
    "print(\"\\nDecision Tree Feature Importance:\")\n",
    "print(dt_importance)"
   ]
  },
  {
   "cell_type": "code",
   "execution_count": null,
   "id": "717694f8-705e-411b-87f3-83856cc52ee0",
   "metadata": {},
   "outputs": [],
   "source": []
  },
  {
   "cell_type": "code",
   "execution_count": null,
   "id": "5406edba-7c90-4ad6-ae9e-06181c22e0df",
   "metadata": {},
   "outputs": [],
   "source": []
  },
  {
   "cell_type": "code",
   "execution_count": null,
   "id": "5160b5ba-befb-4d77-b916-c5eb2fb1ff21",
   "metadata": {},
   "outputs": [],
   "source": []
  }
 ],
 "metadata": {
  "kernelspec": {
   "display_name": "Python",
   "language": "python",
   "name": "jupyter_env"
  },
  "language_info": {
   "codemirror_mode": {
    "name": "ipython",
    "version": 3
   },
   "file_extension": ".py",
   "mimetype": "text/x-python",
   "name": "python",
   "nbconvert_exporter": "python",
   "pygments_lexer": "ipython3",
   "version": "3.13.3"
  }
 },
 "nbformat": 4,
 "nbformat_minor": 5
}
